{
 "cells": [
  {
   "cell_type": "markdown",
   "metadata": {},
   "source": [
    "# Regresión lineal para predecir salarios en USD\n"
   ]
  },
  {
   "cell_type": "markdown",
   "metadata": {},
   "source": [
    "En el presente documento se utilizará Python para implementar un modelo de regresión lineal en un conjunto de datos acerca de salarios.\n",
    "\n",
    "De modo que la dinámica del documento involucra código en Python, junto a explicaciones y análisis entre el código.\n",
    "\n",
    "### Contenidos:\n",
    "\n",
    "- [Dataframe original](#Dataframe-original)\n",
    "- [Limpiado de dataframe](#Limpiado-de-dataframe)\n",
    "  - [Eliminar columnas innecesarias](#Eliminar-columnas-innecesarias)\n",
    "  - [Verificar que hay mas filas que columnas](#Verificar-que-hay-mas-filas-que-columnas)\n",
    "  - [Verificar que no haya datos nulos](#Verificar-que-no-haya-datos-nulos)\n",
    "  - [Verificar datos numericos](#Verificar-datos-numericos)\n",
    "- [Resolver variables categoricas](#Resolver-variables-categoricas)\n",
    "  - [_experience_level_](#experience_level)\n",
    "  - [_employment_type_](#employment_type)\n",
    "  - [Añadir variables dicotómicas a nuestro dataframe](#Anadir-variables-dicotomicas-a-nuestro-dataframe)\n",
    "- [Correlacion de las variables regresoras](#Correlacion-de-las-variables-regresoras)\n",
    "  - [Determinar alta y baja correlación](#Determinar-alta-y-baja-correlacion)\n",
    "  - [Estandarizar datos](#Estandarizar-datos)\n",
    "- [Dividir base de datos entre prueba y entrenamiento](#Dividir-base-de-datos-entre-prueba-y-entrenamiento)\n",
    "- [Implementar modelo de regresion linear](#Implementar-modelo-de-regresion-linear)\n",
    "  - [Preparar formula](#Preparar-formula)\n",
    "  - [Formula resultante](#Formula-resultante)\n",
    "  - [Ejecución del modelo](#Ejecucion-del-modelo)\n",
    "  - [Interpretación](#Interpretacion)\n",
    "- [Comprobar modelo](#Comprobar-modelo)\n",
    "  - [Extraer coeficientes resultantes según hipótesis nula](#Extraer-coeficientes-resultantes-tomando-en-cuenta-la-hipotesis-nula)\n",
    "  - [Ecuación resultante](#Ecuacion-resultante)\n",
    "  - [Segunda iteración](#Segunda-iteracion-del-modelo)\n",
    "  - [Tercera iteración](#Tercera-iteracion-del-modelo)\n",
    "  - [Comprobación de mejor iteración](#Comprobación-de-mejor-iteracion)\n",
    "  - [Aproximar valores de $y$ usando modelo](#Aproximar-valores-de-y-usando-modelo)\n",
    "- [Análisis de errores](#Analisis-de-errores)\n",
    "  - [QQ-plot y prueba Kolmogorov-Smirnov (K-S test)](#QQ-plot-y-prueba-Kolmogorov-Smirnov-(K-S-test))\n",
    "  - [Estandarización de errores y K-S test](#Estandarizacion-de-errores-y-K-S-test)\n",
    "  - [QQ-plot](#QQ-plot)\n",
    "  - [Histograma de residuos](#Histograma-de-residuos)\n",
    "- [Resultados finales](#Resultados-finales)\n",
    "  - [Ecuación final](#Ecuacion-final)\n",
    "- [Conclusión](#Conclusion)\n",
    "\n",
    "_Algunos encabezados carecen de tildes (ej.: 'á') o de letras 'ñ' por problemas de compatibilidad_\n"
   ]
  },
  {
   "cell_type": "code",
   "execution_count": 1,
   "metadata": {},
   "outputs": [],
   "source": [
    "import pandas as pd\n",
    "import numpy as np\n",
    "from sklearn.preprocessing import StandardScaler\n",
    "from sklearn.model_selection import train_test_split\n",
    "import statsmodels.formula.api as smf\n",
    "from IPython.display import display, Math\n",
    "from scipy import stats\n",
    "import matplotlib.pyplot as plt\n",
    "import statsmodels.api as sm"
   ]
  },
  {
   "cell_type": "markdown",
   "metadata": {},
   "source": [
    "#### Dataframe original\n"
   ]
  },
  {
   "cell_type": "code",
   "execution_count": 2,
   "metadata": {},
   "outputs": [
    {
     "data": {
      "text/html": [
       "<div>\n",
       "<style scoped>\n",
       "    .dataframe tbody tr th:only-of-type {\n",
       "        vertical-align: middle;\n",
       "    }\n",
       "\n",
       "    .dataframe tbody tr th {\n",
       "        vertical-align: top;\n",
       "    }\n",
       "\n",
       "    .dataframe thead th {\n",
       "        text-align: right;\n",
       "    }\n",
       "</style>\n",
       "<table border=\"1\" class=\"dataframe\">\n",
       "  <thead>\n",
       "    <tr style=\"text-align: right;\">\n",
       "      <th></th>\n",
       "      <th>Unnamed: 0</th>\n",
       "      <th>work_year</th>\n",
       "      <th>experience_level</th>\n",
       "      <th>employment_type</th>\n",
       "      <th>job_title</th>\n",
       "      <th>salary</th>\n",
       "      <th>salary_currency</th>\n",
       "      <th>salary_in_usd</th>\n",
       "      <th>employee_residence</th>\n",
       "      <th>remote_ratio</th>\n",
       "      <th>company_location</th>\n",
       "      <th>company_size</th>\n",
       "    </tr>\n",
       "  </thead>\n",
       "  <tbody>\n",
       "    <tr>\n",
       "      <th>0</th>\n",
       "      <td>0</td>\n",
       "      <td>2020</td>\n",
       "      <td>MI</td>\n",
       "      <td>FT</td>\n",
       "      <td>Data Scientist</td>\n",
       "      <td>70000</td>\n",
       "      <td>EUR</td>\n",
       "      <td>79833</td>\n",
       "      <td>DE</td>\n",
       "      <td>0</td>\n",
       "      <td>DE</td>\n",
       "      <td>L</td>\n",
       "    </tr>\n",
       "    <tr>\n",
       "      <th>1</th>\n",
       "      <td>1</td>\n",
       "      <td>2020</td>\n",
       "      <td>SE</td>\n",
       "      <td>FT</td>\n",
       "      <td>Machine Learning Scientist</td>\n",
       "      <td>260000</td>\n",
       "      <td>USD</td>\n",
       "      <td>260000</td>\n",
       "      <td>JP</td>\n",
       "      <td>0</td>\n",
       "      <td>JP</td>\n",
       "      <td>S</td>\n",
       "    </tr>\n",
       "    <tr>\n",
       "      <th>2</th>\n",
       "      <td>2</td>\n",
       "      <td>2020</td>\n",
       "      <td>SE</td>\n",
       "      <td>FT</td>\n",
       "      <td>Big Data Engineer</td>\n",
       "      <td>85000</td>\n",
       "      <td>GBP</td>\n",
       "      <td>109024</td>\n",
       "      <td>GB</td>\n",
       "      <td>50</td>\n",
       "      <td>GB</td>\n",
       "      <td>M</td>\n",
       "    </tr>\n",
       "    <tr>\n",
       "      <th>3</th>\n",
       "      <td>3</td>\n",
       "      <td>2020</td>\n",
       "      <td>MI</td>\n",
       "      <td>FT</td>\n",
       "      <td>Product Data Analyst</td>\n",
       "      <td>20000</td>\n",
       "      <td>USD</td>\n",
       "      <td>20000</td>\n",
       "      <td>HN</td>\n",
       "      <td>0</td>\n",
       "      <td>HN</td>\n",
       "      <td>S</td>\n",
       "    </tr>\n",
       "    <tr>\n",
       "      <th>4</th>\n",
       "      <td>4</td>\n",
       "      <td>2020</td>\n",
       "      <td>SE</td>\n",
       "      <td>FT</td>\n",
       "      <td>Machine Learning Engineer</td>\n",
       "      <td>150000</td>\n",
       "      <td>USD</td>\n",
       "      <td>150000</td>\n",
       "      <td>US</td>\n",
       "      <td>50</td>\n",
       "      <td>US</td>\n",
       "      <td>L</td>\n",
       "    </tr>\n",
       "  </tbody>\n",
       "</table>\n",
       "</div>"
      ],
      "text/plain": [
       "   Unnamed: 0  work_year experience_level employment_type  \\\n",
       "0           0       2020               MI              FT   \n",
       "1           1       2020               SE              FT   \n",
       "2           2       2020               SE              FT   \n",
       "3           3       2020               MI              FT   \n",
       "4           4       2020               SE              FT   \n",
       "\n",
       "                    job_title  salary salary_currency  salary_in_usd  \\\n",
       "0              Data Scientist   70000             EUR          79833   \n",
       "1  Machine Learning Scientist  260000             USD         260000   \n",
       "2           Big Data Engineer   85000             GBP         109024   \n",
       "3        Product Data Analyst   20000             USD          20000   \n",
       "4   Machine Learning Engineer  150000             USD         150000   \n",
       "\n",
       "  employee_residence  remote_ratio company_location company_size  \n",
       "0                 DE             0               DE            L  \n",
       "1                 JP             0               JP            S  \n",
       "2                 GB            50               GB            M  \n",
       "3                 HN             0               HN            S  \n",
       "4                 US            50               US            L  "
      ]
     },
     "execution_count": 2,
     "metadata": {},
     "output_type": "execute_result"
    }
   ],
   "source": [
    "df = pd.read_csv(\"./ds_salaries.csv\")\n",
    "df.head()"
   ]
  },
  {
   "cell_type": "markdown",
   "metadata": {},
   "source": [
    "## Limpiado de dataframe\n",
    "\n",
    "### Eliminar columnas innecesarias\n"
   ]
  },
  {
   "cell_type": "code",
   "execution_count": 3,
   "metadata": {},
   "outputs": [
    {
     "data": {
      "text/html": [
       "<div>\n",
       "<style scoped>\n",
       "    .dataframe tbody tr th:only-of-type {\n",
       "        vertical-align: middle;\n",
       "    }\n",
       "\n",
       "    .dataframe tbody tr th {\n",
       "        vertical-align: top;\n",
       "    }\n",
       "\n",
       "    .dataframe thead th {\n",
       "        text-align: right;\n",
       "    }\n",
       "</style>\n",
       "<table border=\"1\" class=\"dataframe\">\n",
       "  <thead>\n",
       "    <tr style=\"text-align: right;\">\n",
       "      <th></th>\n",
       "      <th>experience_level</th>\n",
       "      <th>employment_type</th>\n",
       "      <th>salary</th>\n",
       "      <th>salary_in_usd</th>\n",
       "      <th>remote_ratio</th>\n",
       "    </tr>\n",
       "  </thead>\n",
       "  <tbody>\n",
       "    <tr>\n",
       "      <th>0</th>\n",
       "      <td>MI</td>\n",
       "      <td>FT</td>\n",
       "      <td>70000</td>\n",
       "      <td>79833</td>\n",
       "      <td>0</td>\n",
       "    </tr>\n",
       "    <tr>\n",
       "      <th>1</th>\n",
       "      <td>SE</td>\n",
       "      <td>FT</td>\n",
       "      <td>260000</td>\n",
       "      <td>260000</td>\n",
       "      <td>0</td>\n",
       "    </tr>\n",
       "    <tr>\n",
       "      <th>2</th>\n",
       "      <td>SE</td>\n",
       "      <td>FT</td>\n",
       "      <td>85000</td>\n",
       "      <td>109024</td>\n",
       "      <td>50</td>\n",
       "    </tr>\n",
       "    <tr>\n",
       "      <th>3</th>\n",
       "      <td>MI</td>\n",
       "      <td>FT</td>\n",
       "      <td>20000</td>\n",
       "      <td>20000</td>\n",
       "      <td>0</td>\n",
       "    </tr>\n",
       "    <tr>\n",
       "      <th>4</th>\n",
       "      <td>SE</td>\n",
       "      <td>FT</td>\n",
       "      <td>150000</td>\n",
       "      <td>150000</td>\n",
       "      <td>50</td>\n",
       "    </tr>\n",
       "  </tbody>\n",
       "</table>\n",
       "</div>"
      ],
      "text/plain": [
       "  experience_level employment_type  salary  salary_in_usd  remote_ratio\n",
       "0               MI              FT   70000          79833             0\n",
       "1               SE              FT  260000         260000             0\n",
       "2               SE              FT   85000         109024            50\n",
       "3               MI              FT   20000          20000             0\n",
       "4               SE              FT  150000         150000            50"
      ]
     },
     "execution_count": 3,
     "metadata": {},
     "output_type": "execute_result"
    }
   ],
   "source": [
    "columns_to_keep = set(\n",
    "    [\"salary\", \"remote_ratio\", \"experience_level\", \"employment_type\", \"salary_in_usd\"]\n",
    ")\n",
    "\n",
    "for col in df.columns:\n",
    "    if col not in columns_to_keep:\n",
    "        df = df.drop([col], axis=1)\n",
    "\n",
    "df.head()"
   ]
  },
  {
   "cell_type": "markdown",
   "metadata": {},
   "source": [
    "### Verificar que hay mas filas que columnas\n",
    "\n",
    "Requisito para que la matríz pueda ser invertida, parte del algoritmo de regresión\n"
   ]
  },
  {
   "cell_type": "code",
   "execution_count": 4,
   "metadata": {},
   "outputs": [
    {
     "data": {
      "text/plain": [
       "(607, 5)"
      ]
     },
     "execution_count": 4,
     "metadata": {},
     "output_type": "execute_result"
    }
   ],
   "source": [
    "df.shape"
   ]
  },
  {
   "cell_type": "markdown",
   "metadata": {},
   "source": [
    "### Verificar que no haya datos nulos\n"
   ]
  },
  {
   "cell_type": "code",
   "execution_count": 5,
   "metadata": {},
   "outputs": [
    {
     "data": {
      "text/plain": [
       "experience_level    0\n",
       "employment_type     0\n",
       "salary              0\n",
       "salary_in_usd       0\n",
       "remote_ratio        0\n",
       "dtype: int64"
      ]
     },
     "execution_count": 5,
     "metadata": {},
     "output_type": "execute_result"
    }
   ],
   "source": [
    "df.isnull().sum()"
   ]
  },
  {
   "cell_type": "markdown",
   "metadata": {},
   "source": [
    "### Verificar datos numericos\n",
    "\n",
    "Es decir, que los datos numéricos sean variables numéricas y no strings o algún otro tipo de dato.\n",
    "\n",
    "Cabe mencionar, que hay datos que se esperan que no sean numéricos de momento, este caso: _experience_level_, _employment_type_\n"
   ]
  },
  {
   "cell_type": "code",
   "execution_count": 6,
   "metadata": {},
   "outputs": [
    {
     "data": {
      "text/plain": [
       "experience_level    object\n",
       "employment_type     object\n",
       "salary               int64\n",
       "salary_in_usd        int64\n",
       "remote_ratio         int64\n",
       "dtype: object"
      ]
     },
     "execution_count": 6,
     "metadata": {},
     "output_type": "execute_result"
    }
   ],
   "source": [
    "df.dtypes"
   ]
  },
  {
   "cell_type": "code",
   "execution_count": 7,
   "metadata": {},
   "outputs": [
    {
     "data": {
      "text/html": [
       "<div>\n",
       "<style scoped>\n",
       "    .dataframe tbody tr th:only-of-type {\n",
       "        vertical-align: middle;\n",
       "    }\n",
       "\n",
       "    .dataframe tbody tr th {\n",
       "        vertical-align: top;\n",
       "    }\n",
       "\n",
       "    .dataframe thead th {\n",
       "        text-align: right;\n",
       "    }\n",
       "</style>\n",
       "<table border=\"1\" class=\"dataframe\">\n",
       "  <thead>\n",
       "    <tr style=\"text-align: right;\">\n",
       "      <th></th>\n",
       "      <th>experience_level</th>\n",
       "      <th>employment_type</th>\n",
       "      <th>salary</th>\n",
       "      <th>salary_in_usd</th>\n",
       "      <th>remote_ratio</th>\n",
       "    </tr>\n",
       "  </thead>\n",
       "  <tbody>\n",
       "    <tr>\n",
       "      <th>0</th>\n",
       "      <td>MI</td>\n",
       "      <td>FT</td>\n",
       "      <td>70000</td>\n",
       "      <td>79833</td>\n",
       "      <td>0</td>\n",
       "    </tr>\n",
       "    <tr>\n",
       "      <th>1</th>\n",
       "      <td>SE</td>\n",
       "      <td>FT</td>\n",
       "      <td>260000</td>\n",
       "      <td>260000</td>\n",
       "      <td>0</td>\n",
       "    </tr>\n",
       "    <tr>\n",
       "      <th>2</th>\n",
       "      <td>SE</td>\n",
       "      <td>FT</td>\n",
       "      <td>85000</td>\n",
       "      <td>109024</td>\n",
       "      <td>50</td>\n",
       "    </tr>\n",
       "    <tr>\n",
       "      <th>3</th>\n",
       "      <td>MI</td>\n",
       "      <td>FT</td>\n",
       "      <td>20000</td>\n",
       "      <td>20000</td>\n",
       "      <td>0</td>\n",
       "    </tr>\n",
       "    <tr>\n",
       "      <th>4</th>\n",
       "      <td>SE</td>\n",
       "      <td>FT</td>\n",
       "      <td>150000</td>\n",
       "      <td>150000</td>\n",
       "      <td>50</td>\n",
       "    </tr>\n",
       "  </tbody>\n",
       "</table>\n",
       "</div>"
      ],
      "text/plain": [
       "  experience_level employment_type  salary  salary_in_usd  remote_ratio\n",
       "0               MI              FT   70000          79833             0\n",
       "1               SE              FT  260000         260000             0\n",
       "2               SE              FT   85000         109024            50\n",
       "3               MI              FT   20000          20000             0\n",
       "4               SE              FT  150000         150000            50"
      ]
     },
     "execution_count": 7,
     "metadata": {},
     "output_type": "execute_result"
    }
   ],
   "source": [
    "df.head()"
   ]
  },
  {
   "cell_type": "markdown",
   "metadata": {},
   "source": [
    "### Limpieza terminada\n",
    "\n",
    "Resultado:\n"
   ]
  },
  {
   "cell_type": "code",
   "execution_count": 8,
   "metadata": {},
   "outputs": [
    {
     "data": {
      "text/html": [
       "<div>\n",
       "<style scoped>\n",
       "    .dataframe tbody tr th:only-of-type {\n",
       "        vertical-align: middle;\n",
       "    }\n",
       "\n",
       "    .dataframe tbody tr th {\n",
       "        vertical-align: top;\n",
       "    }\n",
       "\n",
       "    .dataframe thead th {\n",
       "        text-align: right;\n",
       "    }\n",
       "</style>\n",
       "<table border=\"1\" class=\"dataframe\">\n",
       "  <thead>\n",
       "    <tr style=\"text-align: right;\">\n",
       "      <th></th>\n",
       "      <th>experience_level</th>\n",
       "      <th>employment_type</th>\n",
       "      <th>salary</th>\n",
       "      <th>salary_in_usd</th>\n",
       "      <th>remote_ratio</th>\n",
       "    </tr>\n",
       "  </thead>\n",
       "  <tbody>\n",
       "    <tr>\n",
       "      <th>0</th>\n",
       "      <td>MI</td>\n",
       "      <td>FT</td>\n",
       "      <td>70000</td>\n",
       "      <td>79833</td>\n",
       "      <td>0</td>\n",
       "    </tr>\n",
       "    <tr>\n",
       "      <th>1</th>\n",
       "      <td>SE</td>\n",
       "      <td>FT</td>\n",
       "      <td>260000</td>\n",
       "      <td>260000</td>\n",
       "      <td>0</td>\n",
       "    </tr>\n",
       "    <tr>\n",
       "      <th>2</th>\n",
       "      <td>SE</td>\n",
       "      <td>FT</td>\n",
       "      <td>85000</td>\n",
       "      <td>109024</td>\n",
       "      <td>50</td>\n",
       "    </tr>\n",
       "    <tr>\n",
       "      <th>3</th>\n",
       "      <td>MI</td>\n",
       "      <td>FT</td>\n",
       "      <td>20000</td>\n",
       "      <td>20000</td>\n",
       "      <td>0</td>\n",
       "    </tr>\n",
       "    <tr>\n",
       "      <th>4</th>\n",
       "      <td>SE</td>\n",
       "      <td>FT</td>\n",
       "      <td>150000</td>\n",
       "      <td>150000</td>\n",
       "      <td>50</td>\n",
       "    </tr>\n",
       "  </tbody>\n",
       "</table>\n",
       "</div>"
      ],
      "text/plain": [
       "  experience_level employment_type  salary  salary_in_usd  remote_ratio\n",
       "0               MI              FT   70000          79833             0\n",
       "1               SE              FT  260000         260000             0\n",
       "2               SE              FT   85000         109024            50\n",
       "3               MI              FT   20000          20000             0\n",
       "4               SE              FT  150000         150000            50"
      ]
     },
     "execution_count": 8,
     "metadata": {},
     "output_type": "execute_result"
    }
   ],
   "source": [
    "df.head()"
   ]
  },
  {
   "cell_type": "markdown",
   "metadata": {},
   "source": [
    "## Resolver variables categoricas\n",
    "\n",
    "_employment_type_ y _experience_level_ son variables categóricas detonadas por una cadena de texto, es necesario que estas sean representadas por cadenas de texto.\n",
    "\n",
    "Si bien hay una jerarquía clara en una de las categorías (_experience_level_), no es posible inferir un valor numérico para cada nivel, por lo que ambas serán representadas de manera dicotonómica.\n",
    "\n",
    "#### _experience_level_\n"
   ]
  },
  {
   "cell_type": "code",
   "execution_count": 9,
   "metadata": {},
   "outputs": [
    {
     "data": {
      "text/html": [
       "<div>\n",
       "<style scoped>\n",
       "    .dataframe tbody tr th:only-of-type {\n",
       "        vertical-align: middle;\n",
       "    }\n",
       "\n",
       "    .dataframe tbody tr th {\n",
       "        vertical-align: top;\n",
       "    }\n",
       "\n",
       "    .dataframe thead th {\n",
       "        text-align: right;\n",
       "    }\n",
       "</style>\n",
       "<table border=\"1\" class=\"dataframe\">\n",
       "  <thead>\n",
       "    <tr style=\"text-align: right;\">\n",
       "      <th></th>\n",
       "      <th>experience_level_EN</th>\n",
       "      <th>experience_level_EX</th>\n",
       "      <th>experience_level_MI</th>\n",
       "      <th>experience_level_SE</th>\n",
       "    </tr>\n",
       "  </thead>\n",
       "  <tbody>\n",
       "    <tr>\n",
       "      <th>0</th>\n",
       "      <td>False</td>\n",
       "      <td>False</td>\n",
       "      <td>True</td>\n",
       "      <td>False</td>\n",
       "    </tr>\n",
       "    <tr>\n",
       "      <th>1</th>\n",
       "      <td>False</td>\n",
       "      <td>False</td>\n",
       "      <td>False</td>\n",
       "      <td>True</td>\n",
       "    </tr>\n",
       "    <tr>\n",
       "      <th>2</th>\n",
       "      <td>False</td>\n",
       "      <td>False</td>\n",
       "      <td>False</td>\n",
       "      <td>True</td>\n",
       "    </tr>\n",
       "    <tr>\n",
       "      <th>3</th>\n",
       "      <td>False</td>\n",
       "      <td>False</td>\n",
       "      <td>True</td>\n",
       "      <td>False</td>\n",
       "    </tr>\n",
       "    <tr>\n",
       "      <th>4</th>\n",
       "      <td>False</td>\n",
       "      <td>False</td>\n",
       "      <td>False</td>\n",
       "      <td>True</td>\n",
       "    </tr>\n",
       "  </tbody>\n",
       "</table>\n",
       "</div>"
      ],
      "text/plain": [
       "   experience_level_EN  experience_level_EX  experience_level_MI  \\\n",
       "0                False                False                 True   \n",
       "1                False                False                False   \n",
       "2                False                False                False   \n",
       "3                False                False                 True   \n",
       "4                False                False                False   \n",
       "\n",
       "   experience_level_SE  \n",
       "0                False  \n",
       "1                 True  \n",
       "2                 True  \n",
       "3                False  \n",
       "4                 True  "
      ]
     },
     "execution_count": 9,
     "metadata": {},
     "output_type": "execute_result"
    }
   ],
   "source": [
    "dummies_experience_level = pd.get_dummies(df[\"experience_level\"], \"experience_level\")\n",
    "dummies_experience_level.head()"
   ]
  },
  {
   "cell_type": "markdown",
   "metadata": {},
   "source": [
    "#### _employment_type_"
   ]
  },
  {
   "cell_type": "code",
   "execution_count": 10,
   "metadata": {},
   "outputs": [
    {
     "data": {
      "text/html": [
       "<div>\n",
       "<style scoped>\n",
       "    .dataframe tbody tr th:only-of-type {\n",
       "        vertical-align: middle;\n",
       "    }\n",
       "\n",
       "    .dataframe tbody tr th {\n",
       "        vertical-align: top;\n",
       "    }\n",
       "\n",
       "    .dataframe thead th {\n",
       "        text-align: right;\n",
       "    }\n",
       "</style>\n",
       "<table border=\"1\" class=\"dataframe\">\n",
       "  <thead>\n",
       "    <tr style=\"text-align: right;\">\n",
       "      <th></th>\n",
       "      <th>employment_type_CT</th>\n",
       "      <th>employment_type_FL</th>\n",
       "      <th>employment_type_FT</th>\n",
       "      <th>employment_type_PT</th>\n",
       "    </tr>\n",
       "  </thead>\n",
       "  <tbody>\n",
       "    <tr>\n",
       "      <th>0</th>\n",
       "      <td>False</td>\n",
       "      <td>False</td>\n",
       "      <td>True</td>\n",
       "      <td>False</td>\n",
       "    </tr>\n",
       "    <tr>\n",
       "      <th>1</th>\n",
       "      <td>False</td>\n",
       "      <td>False</td>\n",
       "      <td>True</td>\n",
       "      <td>False</td>\n",
       "    </tr>\n",
       "    <tr>\n",
       "      <th>2</th>\n",
       "      <td>False</td>\n",
       "      <td>False</td>\n",
       "      <td>True</td>\n",
       "      <td>False</td>\n",
       "    </tr>\n",
       "    <tr>\n",
       "      <th>3</th>\n",
       "      <td>False</td>\n",
       "      <td>False</td>\n",
       "      <td>True</td>\n",
       "      <td>False</td>\n",
       "    </tr>\n",
       "    <tr>\n",
       "      <th>4</th>\n",
       "      <td>False</td>\n",
       "      <td>False</td>\n",
       "      <td>True</td>\n",
       "      <td>False</td>\n",
       "    </tr>\n",
       "  </tbody>\n",
       "</table>\n",
       "</div>"
      ],
      "text/plain": [
       "   employment_type_CT  employment_type_FL  employment_type_FT  \\\n",
       "0               False               False                True   \n",
       "1               False               False                True   \n",
       "2               False               False                True   \n",
       "3               False               False                True   \n",
       "4               False               False                True   \n",
       "\n",
       "   employment_type_PT  \n",
       "0               False  \n",
       "1               False  \n",
       "2               False  \n",
       "3               False  \n",
       "4               False  "
      ]
     },
     "execution_count": 10,
     "metadata": {},
     "output_type": "execute_result"
    }
   ],
   "source": [
    "dummies_employment_type = pd.get_dummies(df[\"employment_type\"], \"employment_type\")\n",
    "dummies_employment_type.head()"
   ]
  },
  {
   "cell_type": "markdown",
   "metadata": {},
   "source": [
    "### Anadir variables dicotomicas a nuestro dataframe\n",
    "\n",
    "Y eliminar las columnas originales de dichas variables\n"
   ]
  },
  {
   "cell_type": "code",
   "execution_count": 11,
   "metadata": {},
   "outputs": [
    {
     "data": {
      "text/html": [
       "<div>\n",
       "<style scoped>\n",
       "    .dataframe tbody tr th:only-of-type {\n",
       "        vertical-align: middle;\n",
       "    }\n",
       "\n",
       "    .dataframe tbody tr th {\n",
       "        vertical-align: top;\n",
       "    }\n",
       "\n",
       "    .dataframe thead th {\n",
       "        text-align: right;\n",
       "    }\n",
       "</style>\n",
       "<table border=\"1\" class=\"dataframe\">\n",
       "  <thead>\n",
       "    <tr style=\"text-align: right;\">\n",
       "      <th></th>\n",
       "      <th>experience_level</th>\n",
       "      <th>employment_type</th>\n",
       "      <th>salary</th>\n",
       "      <th>salary_in_usd</th>\n",
       "      <th>remote_ratio</th>\n",
       "    </tr>\n",
       "  </thead>\n",
       "  <tbody>\n",
       "    <tr>\n",
       "      <th>0</th>\n",
       "      <td>MI</td>\n",
       "      <td>FT</td>\n",
       "      <td>70000</td>\n",
       "      <td>79833</td>\n",
       "      <td>0</td>\n",
       "    </tr>\n",
       "    <tr>\n",
       "      <th>1</th>\n",
       "      <td>SE</td>\n",
       "      <td>FT</td>\n",
       "      <td>260000</td>\n",
       "      <td>260000</td>\n",
       "      <td>0</td>\n",
       "    </tr>\n",
       "    <tr>\n",
       "      <th>2</th>\n",
       "      <td>SE</td>\n",
       "      <td>FT</td>\n",
       "      <td>85000</td>\n",
       "      <td>109024</td>\n",
       "      <td>50</td>\n",
       "    </tr>\n",
       "    <tr>\n",
       "      <th>3</th>\n",
       "      <td>MI</td>\n",
       "      <td>FT</td>\n",
       "      <td>20000</td>\n",
       "      <td>20000</td>\n",
       "      <td>0</td>\n",
       "    </tr>\n",
       "    <tr>\n",
       "      <th>4</th>\n",
       "      <td>SE</td>\n",
       "      <td>FT</td>\n",
       "      <td>150000</td>\n",
       "      <td>150000</td>\n",
       "      <td>50</td>\n",
       "    </tr>\n",
       "  </tbody>\n",
       "</table>\n",
       "</div>"
      ],
      "text/plain": [
       "  experience_level employment_type  salary  salary_in_usd  remote_ratio\n",
       "0               MI              FT   70000          79833             0\n",
       "1               SE              FT  260000         260000             0\n",
       "2               SE              FT   85000         109024            50\n",
       "3               MI              FT   20000          20000             0\n",
       "4               SE              FT  150000         150000            50"
      ]
     },
     "execution_count": 11,
     "metadata": {},
     "output_type": "execute_result"
    }
   ],
   "source": [
    "df.head()  # To compare"
   ]
  },
  {
   "cell_type": "code",
   "execution_count": 12,
   "metadata": {},
   "outputs": [
    {
     "data": {
      "text/html": [
       "<div>\n",
       "<style scoped>\n",
       "    .dataframe tbody tr th:only-of-type {\n",
       "        vertical-align: middle;\n",
       "    }\n",
       "\n",
       "    .dataframe tbody tr th {\n",
       "        vertical-align: top;\n",
       "    }\n",
       "\n",
       "    .dataframe thead th {\n",
       "        text-align: right;\n",
       "    }\n",
       "</style>\n",
       "<table border=\"1\" class=\"dataframe\">\n",
       "  <thead>\n",
       "    <tr style=\"text-align: right;\">\n",
       "      <th></th>\n",
       "      <th>salary</th>\n",
       "      <th>salary_in_usd</th>\n",
       "      <th>remote_ratio</th>\n",
       "      <th>employment_type_CT</th>\n",
       "      <th>employment_type_FL</th>\n",
       "      <th>employment_type_FT</th>\n",
       "      <th>employment_type_PT</th>\n",
       "      <th>experience_level_EN</th>\n",
       "      <th>experience_level_EX</th>\n",
       "      <th>experience_level_MI</th>\n",
       "      <th>experience_level_SE</th>\n",
       "    </tr>\n",
       "  </thead>\n",
       "  <tbody>\n",
       "    <tr>\n",
       "      <th>0</th>\n",
       "      <td>70000</td>\n",
       "      <td>79833</td>\n",
       "      <td>0</td>\n",
       "      <td>False</td>\n",
       "      <td>False</td>\n",
       "      <td>True</td>\n",
       "      <td>False</td>\n",
       "      <td>False</td>\n",
       "      <td>False</td>\n",
       "      <td>True</td>\n",
       "      <td>False</td>\n",
       "    </tr>\n",
       "    <tr>\n",
       "      <th>1</th>\n",
       "      <td>260000</td>\n",
       "      <td>260000</td>\n",
       "      <td>0</td>\n",
       "      <td>False</td>\n",
       "      <td>False</td>\n",
       "      <td>True</td>\n",
       "      <td>False</td>\n",
       "      <td>False</td>\n",
       "      <td>False</td>\n",
       "      <td>False</td>\n",
       "      <td>True</td>\n",
       "    </tr>\n",
       "    <tr>\n",
       "      <th>2</th>\n",
       "      <td>85000</td>\n",
       "      <td>109024</td>\n",
       "      <td>50</td>\n",
       "      <td>False</td>\n",
       "      <td>False</td>\n",
       "      <td>True</td>\n",
       "      <td>False</td>\n",
       "      <td>False</td>\n",
       "      <td>False</td>\n",
       "      <td>False</td>\n",
       "      <td>True</td>\n",
       "    </tr>\n",
       "    <tr>\n",
       "      <th>3</th>\n",
       "      <td>20000</td>\n",
       "      <td>20000</td>\n",
       "      <td>0</td>\n",
       "      <td>False</td>\n",
       "      <td>False</td>\n",
       "      <td>True</td>\n",
       "      <td>False</td>\n",
       "      <td>False</td>\n",
       "      <td>False</td>\n",
       "      <td>True</td>\n",
       "      <td>False</td>\n",
       "    </tr>\n",
       "    <tr>\n",
       "      <th>4</th>\n",
       "      <td>150000</td>\n",
       "      <td>150000</td>\n",
       "      <td>50</td>\n",
       "      <td>False</td>\n",
       "      <td>False</td>\n",
       "      <td>True</td>\n",
       "      <td>False</td>\n",
       "      <td>False</td>\n",
       "      <td>False</td>\n",
       "      <td>False</td>\n",
       "      <td>True</td>\n",
       "    </tr>\n",
       "  </tbody>\n",
       "</table>\n",
       "</div>"
      ],
      "text/plain": [
       "   salary  salary_in_usd  remote_ratio  employment_type_CT  \\\n",
       "0   70000          79833             0               False   \n",
       "1  260000         260000             0               False   \n",
       "2   85000         109024            50               False   \n",
       "3   20000          20000             0               False   \n",
       "4  150000         150000            50               False   \n",
       "\n",
       "   employment_type_FL  employment_type_FT  employment_type_PT  \\\n",
       "0               False                True               False   \n",
       "1               False                True               False   \n",
       "2               False                True               False   \n",
       "3               False                True               False   \n",
       "4               False                True               False   \n",
       "\n",
       "   experience_level_EN  experience_level_EX  experience_level_MI  \\\n",
       "0                False                False                 True   \n",
       "1                False                False                False   \n",
       "2                False                False                False   \n",
       "3                False                False                 True   \n",
       "4                False                False                False   \n",
       "\n",
       "   experience_level_SE  \n",
       "0                False  \n",
       "1                 True  \n",
       "2                 True  \n",
       "3                False  \n",
       "4                 True  "
      ]
     },
     "execution_count": 12,
     "metadata": {},
     "output_type": "execute_result"
    }
   ],
   "source": [
    "df = df.drop([\"employment_type\", \"experience_level\"], axis=1)\n",
    "df = pd.concat([df, dummies_employment_type, dummies_experience_level], axis=1)\n",
    "df.head()"
   ]
  },
  {
   "cell_type": "markdown",
   "metadata": {},
   "source": [
    "## Correlacion de las variables regresoras\n",
    "\n",
    "El algoritmo de regresión invierte la matriz, por lo que es necesario que las variables sean independientes.\n",
    "\n",
    "Para ello calcularemos la correlación entre ellas y comprobaremos que no se encuentren en el siguiente intervalo:\n",
    "\n",
    "$$[-1, -0.95] \\cup [0.95, 1]$$"
   ]
  },
  {
   "cell_type": "code",
   "execution_count": 13,
   "metadata": {},
   "outputs": [
    {
     "data": {
      "text/html": [
       "<div>\n",
       "<style scoped>\n",
       "    .dataframe tbody tr th:only-of-type {\n",
       "        vertical-align: middle;\n",
       "    }\n",
       "\n",
       "    .dataframe tbody tr th {\n",
       "        vertical-align: top;\n",
       "    }\n",
       "\n",
       "    .dataframe thead th {\n",
       "        text-align: right;\n",
       "    }\n",
       "</style>\n",
       "<table border=\"1\" class=\"dataframe\">\n",
       "  <thead>\n",
       "    <tr style=\"text-align: right;\">\n",
       "      <th></th>\n",
       "      <th>salary</th>\n",
       "      <th>salary_in_usd</th>\n",
       "      <th>remote_ratio</th>\n",
       "      <th>employment_type_CT</th>\n",
       "      <th>employment_type_FL</th>\n",
       "      <th>employment_type_FT</th>\n",
       "      <th>employment_type_PT</th>\n",
       "      <th>experience_level_EN</th>\n",
       "      <th>experience_level_EX</th>\n",
       "      <th>experience_level_MI</th>\n",
       "      <th>experience_level_SE</th>\n",
       "    </tr>\n",
       "  </thead>\n",
       "  <tbody>\n",
       "    <tr>\n",
       "      <th>salary</th>\n",
       "      <td>1.000000</td>\n",
       "      <td>-0.083906</td>\n",
       "      <td>-0.014608</td>\n",
       "      <td>-0.008268</td>\n",
       "      <td>-0.014568</td>\n",
       "      <td>0.025685</td>\n",
       "      <td>-0.020006</td>\n",
       "      <td>-0.015845</td>\n",
       "      <td>0.014130</td>\n",
       "      <td>0.074626</td>\n",
       "      <td>-0.065995</td>\n",
       "    </tr>\n",
       "    <tr>\n",
       "      <th>salary_in_usd</th>\n",
       "      <td>-0.083906</td>\n",
       "      <td>1.000000</td>\n",
       "      <td>0.132122</td>\n",
       "      <td>0.092907</td>\n",
       "      <td>-0.073863</td>\n",
       "      <td>0.091819</td>\n",
       "      <td>-0.144627</td>\n",
       "      <td>-0.294196</td>\n",
       "      <td>0.259866</td>\n",
       "      <td>-0.252024</td>\n",
       "      <td>0.343513</td>\n",
       "    </tr>\n",
       "    <tr>\n",
       "      <th>remote_ratio</th>\n",
       "      <td>-0.014608</td>\n",
       "      <td>0.132122</td>\n",
       "      <td>1.000000</td>\n",
       "      <td>0.065149</td>\n",
       "      <td>-0.016865</td>\n",
       "      <td>-0.023834</td>\n",
       "      <td>-0.002935</td>\n",
       "      <td>-0.010490</td>\n",
       "      <td>0.041208</td>\n",
       "      <td>-0.127850</td>\n",
       "      <td>0.113071</td>\n",
       "    </tr>\n",
       "    <tr>\n",
       "      <th>employment_type_CT</th>\n",
       "      <td>-0.008268</td>\n",
       "      <td>0.092907</td>\n",
       "      <td>0.065149</td>\n",
       "      <td>1.000000</td>\n",
       "      <td>-0.007423</td>\n",
       "      <td>-0.506989</td>\n",
       "      <td>-0.011795</td>\n",
       "      <td>0.066013</td>\n",
       "      <td>0.070739</td>\n",
       "      <td>-0.028817</td>\n",
       "      <td>-0.047768</td>\n",
       "    </tr>\n",
       "    <tr>\n",
       "      <th>employment_type_FL</th>\n",
       "      <td>-0.014568</td>\n",
       "      <td>-0.073863</td>\n",
       "      <td>-0.016865</td>\n",
       "      <td>-0.007423</td>\n",
       "      <td>1.000000</td>\n",
       "      <td>-0.453089</td>\n",
       "      <td>-0.010541</td>\n",
       "      <td>-0.033537</td>\n",
       "      <td>-0.017229</td>\n",
       "      <td>0.068108</td>\n",
       "      <td>-0.034520</td>\n",
       "    </tr>\n",
       "  </tbody>\n",
       "</table>\n",
       "</div>"
      ],
      "text/plain": [
       "                      salary  salary_in_usd  remote_ratio  employment_type_CT  \\\n",
       "salary              1.000000      -0.083906     -0.014608           -0.008268   \n",
       "salary_in_usd      -0.083906       1.000000      0.132122            0.092907   \n",
       "remote_ratio       -0.014608       0.132122      1.000000            0.065149   \n",
       "employment_type_CT -0.008268       0.092907      0.065149            1.000000   \n",
       "employment_type_FL -0.014568      -0.073863     -0.016865           -0.007423   \n",
       "\n",
       "                    employment_type_FL  employment_type_FT  \\\n",
       "salary                       -0.014568            0.025685   \n",
       "salary_in_usd                -0.073863            0.091819   \n",
       "remote_ratio                 -0.016865           -0.023834   \n",
       "employment_type_CT           -0.007423           -0.506989   \n",
       "employment_type_FL            1.000000           -0.453089   \n",
       "\n",
       "                    employment_type_PT  experience_level_EN  \\\n",
       "salary                       -0.020006            -0.015845   \n",
       "salary_in_usd                -0.144627            -0.294196   \n",
       "remote_ratio                 -0.002935            -0.010490   \n",
       "employment_type_CT           -0.011795             0.066013   \n",
       "employment_type_FL           -0.010541            -0.033537   \n",
       "\n",
       "                    experience_level_EX  experience_level_MI  \\\n",
       "salary                         0.014130             0.074626   \n",
       "salary_in_usd                  0.259866            -0.252024   \n",
       "remote_ratio                   0.041208            -0.127850   \n",
       "employment_type_CT             0.070739            -0.028817   \n",
       "employment_type_FL            -0.017229             0.068108   \n",
       "\n",
       "                    experience_level_SE  \n",
       "salary                        -0.065995  \n",
       "salary_in_usd                  0.343513  \n",
       "remote_ratio                   0.113071  \n",
       "employment_type_CT            -0.047768  \n",
       "employment_type_FL            -0.034520  "
      ]
     },
     "execution_count": 13,
     "metadata": {},
     "output_type": "execute_result"
    }
   ],
   "source": [
    "correlacion = df.corr()\n",
    "correlacion.head()"
   ]
  },
  {
   "cell_type": "markdown",
   "metadata": {},
   "source": [
    "### Determinar alta y baja correlacion\n"
   ]
  },
  {
   "cell_type": "markdown",
   "metadata": {},
   "source": [
    "En este caso las variables no están correlacionadas. Por lo que no hará falta de momento estandarizar los datos"
   ]
  },
  {
   "cell_type": "code",
   "execution_count": 14,
   "metadata": {},
   "outputs": [
    {
     "data": {
      "text/plain": [
       "(array([ 0,  0,  0,  0,  0,  0,  0,  0,  0,  0,  1,  1,  1,  1,  1,  1,  1,\n",
       "         1,  1,  1,  2,  2,  2,  2,  2,  2,  2,  2,  2,  2,  3,  3,  3,  3,\n",
       "         3,  3,  3,  3,  3,  3,  4,  4,  4,  4,  4,  4,  4,  4,  4,  4,  5,\n",
       "         5,  5,  5,  5,  5,  5,  5,  5,  5,  6,  6,  6,  6,  6,  6,  6,  6,\n",
       "         6,  6,  7,  7,  7,  7,  7,  7,  7,  7,  7,  7,  8,  8,  8,  8,  8,\n",
       "         8,  8,  8,  8,  8,  9,  9,  9,  9,  9,  9,  9,  9,  9,  9, 10, 10,\n",
       "        10, 10, 10, 10, 10, 10, 10, 10], dtype=int64),\n",
       " array([ 1,  2,  3,  4,  5,  6,  7,  8,  9, 10,  0,  2,  3,  4,  5,  6,  7,\n",
       "         8,  9, 10,  0,  1,  3,  4,  5,  6,  7,  8,  9, 10,  0,  1,  2,  4,\n",
       "         5,  6,  7,  8,  9, 10,  0,  1,  2,  3,  5,  6,  7,  8,  9, 10,  0,\n",
       "         1,  2,  3,  4,  6,  7,  8,  9, 10,  0,  1,  2,  3,  4,  5,  7,  8,\n",
       "         9, 10,  0,  1,  2,  3,  4,  5,  6,  8,  9, 10,  0,  1,  2,  3,  4,\n",
       "         5,  6,  7,  9, 10,  0,  1,  2,  3,  4,  5,  6,  7,  8, 10,  0,  1,\n",
       "         2,  3,  4,  5,  6,  7,  8,  9], dtype=int64))"
      ]
     },
     "execution_count": 14,
     "metadata": {},
     "output_type": "execute_result"
    }
   ],
   "source": [
    "alta_corr = np.where((correlacion > 0.95) & correlacion < 1)\n",
    "alta_corr"
   ]
  },
  {
   "cell_type": "code",
   "execution_count": 15,
   "metadata": {},
   "outputs": [
    {
     "data": {
      "text/plain": [
       "(array([], dtype=int64), array([], dtype=int64))"
      ]
     },
     "execution_count": 15,
     "metadata": {},
     "output_type": "execute_result"
    }
   ],
   "source": [
    "baja_corr = np.where((correlacion < -0.95) & (correlacion > -1))\n",
    "baja_corr"
   ]
  },
  {
   "cell_type": "markdown",
   "metadata": {},
   "source": [
    "En este caso, hay datos que están correlacionados en el extremo positivo, por lo que estandarizaremos la totalidad del dataframe\n",
    "\n",
    "### Estandarizar datos"
   ]
  },
  {
   "cell_type": "code",
   "execution_count": 16,
   "metadata": {},
   "outputs": [
    {
     "data": {
      "text/html": [
       "<div>\n",
       "<style scoped>\n",
       "    .dataframe tbody tr th:only-of-type {\n",
       "        vertical-align: middle;\n",
       "    }\n",
       "\n",
       "    .dataframe tbody tr th {\n",
       "        vertical-align: top;\n",
       "    }\n",
       "\n",
       "    .dataframe thead th {\n",
       "        text-align: right;\n",
       "    }\n",
       "</style>\n",
       "<table border=\"1\" class=\"dataframe\">\n",
       "  <thead>\n",
       "    <tr style=\"text-align: right;\">\n",
       "      <th></th>\n",
       "      <th>salary</th>\n",
       "      <th>salary_in_usd</th>\n",
       "      <th>remote_ratio</th>\n",
       "      <th>employment_type_CT</th>\n",
       "      <th>employment_type_FL</th>\n",
       "      <th>employment_type_FT</th>\n",
       "      <th>employment_type_PT</th>\n",
       "      <th>experience_level_EN</th>\n",
       "      <th>experience_level_EX</th>\n",
       "      <th>experience_level_MI</th>\n",
       "      <th>experience_level_SE</th>\n",
       "    </tr>\n",
       "  </thead>\n",
       "  <tbody>\n",
       "    <tr>\n",
       "      <th>0</th>\n",
       "      <td>-0.164605</td>\n",
       "      <td>-0.457904</td>\n",
       "      <td>-1.743615</td>\n",
       "      <td>-0.091135</td>\n",
       "      <td>-0.081446</td>\n",
       "      <td>0.179758</td>\n",
       "      <td>-0.129423</td>\n",
       "      <td>-0.411773</td>\n",
       "      <td>-0.211543</td>\n",
       "      <td>1.360061</td>\n",
       "      <td>-0.925348</td>\n",
       "    </tr>\n",
       "    <tr>\n",
       "      <th>1</th>\n",
       "      <td>-0.041475</td>\n",
       "      <td>2.083282</td>\n",
       "      <td>-1.743615</td>\n",
       "      <td>-0.091135</td>\n",
       "      <td>-0.081446</td>\n",
       "      <td>0.179758</td>\n",
       "      <td>-0.129423</td>\n",
       "      <td>-0.411773</td>\n",
       "      <td>-0.211543</td>\n",
       "      <td>-0.735261</td>\n",
       "      <td>1.080674</td>\n",
       "    </tr>\n",
       "    <tr>\n",
       "      <th>2</th>\n",
       "      <td>-0.154885</td>\n",
       "      <td>-0.046177</td>\n",
       "      <td>-0.514377</td>\n",
       "      <td>-0.091135</td>\n",
       "      <td>-0.081446</td>\n",
       "      <td>0.179758</td>\n",
       "      <td>-0.129423</td>\n",
       "      <td>-0.411773</td>\n",
       "      <td>-0.211543</td>\n",
       "      <td>-0.735261</td>\n",
       "      <td>1.080674</td>\n",
       "    </tr>\n",
       "    <tr>\n",
       "      <th>3</th>\n",
       "      <td>-0.197008</td>\n",
       "      <td>-1.301826</td>\n",
       "      <td>-1.743615</td>\n",
       "      <td>-0.091135</td>\n",
       "      <td>-0.081446</td>\n",
       "      <td>0.179758</td>\n",
       "      <td>-0.129423</td>\n",
       "      <td>-0.411773</td>\n",
       "      <td>-0.211543</td>\n",
       "      <td>1.360061</td>\n",
       "      <td>-0.925348</td>\n",
       "    </tr>\n",
       "    <tr>\n",
       "      <th>4</th>\n",
       "      <td>-0.112761</td>\n",
       "      <td>0.531774</td>\n",
       "      <td>-0.514377</td>\n",
       "      <td>-0.091135</td>\n",
       "      <td>-0.081446</td>\n",
       "      <td>0.179758</td>\n",
       "      <td>-0.129423</td>\n",
       "      <td>-0.411773</td>\n",
       "      <td>-0.211543</td>\n",
       "      <td>-0.735261</td>\n",
       "      <td>1.080674</td>\n",
       "    </tr>\n",
       "  </tbody>\n",
       "</table>\n",
       "</div>"
      ],
      "text/plain": [
       "     salary  salary_in_usd  remote_ratio  employment_type_CT  \\\n",
       "0 -0.164605      -0.457904     -1.743615           -0.091135   \n",
       "1 -0.041475       2.083282     -1.743615           -0.091135   \n",
       "2 -0.154885      -0.046177     -0.514377           -0.091135   \n",
       "3 -0.197008      -1.301826     -1.743615           -0.091135   \n",
       "4 -0.112761       0.531774     -0.514377           -0.091135   \n",
       "\n",
       "   employment_type_FL  employment_type_FT  employment_type_PT  \\\n",
       "0           -0.081446            0.179758           -0.129423   \n",
       "1           -0.081446            0.179758           -0.129423   \n",
       "2           -0.081446            0.179758           -0.129423   \n",
       "3           -0.081446            0.179758           -0.129423   \n",
       "4           -0.081446            0.179758           -0.129423   \n",
       "\n",
       "   experience_level_EN  experience_level_EX  experience_level_MI  \\\n",
       "0            -0.411773            -0.211543             1.360061   \n",
       "1            -0.411773            -0.211543            -0.735261   \n",
       "2            -0.411773            -0.211543            -0.735261   \n",
       "3            -0.411773            -0.211543             1.360061   \n",
       "4            -0.411773            -0.211543            -0.735261   \n",
       "\n",
       "   experience_level_SE  \n",
       "0            -0.925348  \n",
       "1             1.080674  \n",
       "2             1.080674  \n",
       "3            -0.925348  \n",
       "4             1.080674  "
      ]
     },
     "execution_count": 16,
     "metadata": {},
     "output_type": "execute_result"
    }
   ],
   "source": [
    "scaler = StandardScaler()\n",
    "df_estandar = scaler.fit_transform(df)\n",
    "df_estandar = pd.DataFrame(df_estandar, columns=df.columns)\n",
    "df_estandar.head()"
   ]
  },
  {
   "cell_type": "markdown",
   "metadata": {},
   "source": [
    "### Dividir base de datos entre prueba y entrenamiento"
   ]
  },
  {
   "cell_type": "code",
   "execution_count": 17,
   "metadata": {},
   "outputs": [
    {
     "name": "stdout",
     "output_type": "stream",
     "text": [
      "Training items: 485\n"
     ]
    }
   ],
   "source": [
    "train_df, test_df = train_test_split(df_estandar, test_size=0.2, random_state=42)\n",
    "print(\"Training items:\", train_df[\"salary\"].count())"
   ]
  },
  {
   "cell_type": "code",
   "execution_count": 18,
   "metadata": {},
   "outputs": [
    {
     "name": "stdout",
     "output_type": "stream",
     "text": [
      "Testing items: 122\n"
     ]
    }
   ],
   "source": [
    "print(\"Testing items:\", test_df[\"salary\"].count())"
   ]
  },
  {
   "cell_type": "markdown",
   "metadata": {},
   "source": [
    "## Implementar modelo de regresion linear\n"
   ]
  },
  {
   "cell_type": "markdown",
   "metadata": {},
   "source": [
    "### Preparar formula\n",
    "\n",
    "Nuestro modelo de regresión viene de la librería _Statsmodels_, la cual toma un dataframe, y una formula con las variables de la siguiente forma:\n",
    "\n",
    "**VariableDeRespuesta~VariableRegresora+...+VariableRegresora**\n",
    "\n",
    "A continuación se presenta un algoritmo sencillo para generar dicha formula"
   ]
  },
  {
   "cell_type": "code",
   "execution_count": 19,
   "metadata": {},
   "outputs": [
    {
     "data": {
      "text/plain": [
       "Index(['salary', 'salary_in_usd', 'remote_ratio', 'employment_type_CT',\n",
       "       'employment_type_FL', 'employment_type_FT', 'employment_type_PT',\n",
       "       'experience_level_EN', 'experience_level_EX', 'experience_level_MI',\n",
       "       'experience_level_SE'],\n",
       "      dtype='object')"
      ]
     },
     "execution_count": 19,
     "metadata": {},
     "output_type": "execute_result"
    }
   ],
   "source": [
    "train_df.columns"
   ]
  },
  {
   "cell_type": "markdown",
   "metadata": {},
   "source": [
    "Es necesario omitir algunas columnas de las variables dicotómicas para evitar redundancia"
   ]
  },
  {
   "cell_type": "code",
   "execution_count": 20,
   "metadata": {},
   "outputs": [],
   "source": [
    "train_df.columns\n",
    "columns_to_skip = set([\"employment_type_PT\", \"experience_level_SE\"])\n",
    "y_columns = \"salary_in_usd\""
   ]
  },
  {
   "cell_type": "code",
   "execution_count": 21,
   "metadata": {},
   "outputs": [],
   "source": [
    "cols = train_df.columns\n",
    "formula_string = y_columns + \"~\"\n",
    "for col in cols:\n",
    "    if (col in columns_to_skip) or (col == y_columns) :\n",
    "        continue\n",
    "    if col != cols[0]:\n",
    "        formula_string += \"+\"\n",
    "    formula_string += col"
   ]
  },
  {
   "cell_type": "markdown",
   "metadata": {},
   "source": [
    "#### Formula resultante"
   ]
  },
  {
   "cell_type": "code",
   "execution_count": 22,
   "metadata": {},
   "outputs": [
    {
     "name": "stdout",
     "output_type": "stream",
     "text": [
      "salary_in_usd~salary+remote_ratio+employment_type_CT+employment_type_FL+employment_type_FT+experience_level_EN+experience_level_EX+experience_level_MI\n"
     ]
    }
   ],
   "source": [
    "first_iteration_formula = formula_string\n",
    "print(formula_string)"
   ]
  },
  {
   "cell_type": "markdown",
   "metadata": {},
   "source": [
    "### Ejecucion del modelo"
   ]
  },
  {
   "cell_type": "code",
   "execution_count": 23,
   "metadata": {},
   "outputs": [
    {
     "name": "stdout",
     "output_type": "stream",
     "text": [
      "                            OLS Regression Results                            \n",
      "==============================================================================\n",
      "Dep. Variable:          salary_in_usd   R-squared:                       0.264\n",
      "Model:                            OLS   Adj. R-squared:                  0.252\n",
      "Method:                 Least Squares   F-statistic:                     21.37\n",
      "Date:                Thu, 17 Aug 2023   Prob (F-statistic):           8.41e-28\n",
      "Time:                        21:35:35   Log-Likelihood:                -627.06\n",
      "No. Observations:                 485   AIC:                             1272.\n",
      "Df Residuals:                     476   BIC:                             1310.\n",
      "Df Model:                           8                                         \n",
      "Covariance Type:            nonrobust                                         \n",
      "=======================================================================================\n",
      "                          coef    std err          t      P>|t|      [0.025      0.975]\n",
      "---------------------------------------------------------------------------------------\n",
      "Intercept               0.0167      0.040      0.413      0.680      -0.063       0.096\n",
      "salary                 -0.1455      0.065     -2.251      0.025      -0.272      -0.018\n",
      "remote_ratio            0.0592      0.040      1.463      0.144      -0.020       0.139\n",
      "employment_type_CT      0.0980      0.050      1.974      0.049       0.000       0.196\n",
      "employment_type_FL     -0.0042      0.058     -0.073      0.941      -0.117       0.109\n",
      "employment_type_FT      0.0879      0.057      1.531      0.126      -0.025       0.201\n",
      "experience_level_EN    -0.3717      0.044     -8.423      0.000      -0.458      -0.285\n",
      "experience_level_EX     0.1902      0.040      4.698      0.000       0.111       0.270\n",
      "experience_level_MI    -0.3225      0.044     -7.387      0.000      -0.408      -0.237\n",
      "==============================================================================\n",
      "Omnibus:                      242.000   Durbin-Watson:                   1.979\n",
      "Prob(Omnibus):                  0.000   Jarque-Bera (JB):             2005.484\n",
      "Skew:                           2.000   Prob(JB):                         0.00\n",
      "Kurtosis:                      12.123   Cond. No.                         2.46\n",
      "==============================================================================\n",
      "\n",
      "Notes:\n",
      "[1] Standard Errors assume that the covariance matrix of the errors is correctly specified.\n"
     ]
    }
   ],
   "source": [
    "modelo = smf.ols(formula=formula_string, data=train_df)\n",
    "modelo = modelo.fit()\n",
    "first_iteration_model = modelo\n",
    "print(modelo.summary())"
   ]
  },
  {
   "cell_type": "markdown",
   "metadata": {},
   "source": [
    "### Interpretacion\n",
    "\n",
    "El primer valor a analizar del modelo, es $R^2$, pues este es el coeficiente que nos indica qué tan bien se ajustan los coeficientes de las variables independientes al resultado de la variable dependiente.\n",
    "\n",
    "Entre $R^2$ más se acerque a 1, mejor es el modelo.\n",
    "\n",
    "Como se puede observar, en nuestro modelo resultante $R^2 = 0.264$, algo bastante bajo.\n",
    "\n",
    "Esto se puede deber a muchas cosas. Una de ellas es que los datos de entrenamiento hayan sido insuficientes, o la muestra aleatoria de entrenamiento del total (80%) no haya sido la mejor. Es por ello que existen **métodos de validación cruzada** que intercalan diferentes partes de la muestra para entrenar el modelo, como _K-fold_.\n",
    "\n",
    "Incluso esto pueda que se deba a que nuestros datos no tengan en realidad una distribución lineal.\n",
    "\n",
    "La razón en la que se profundizará en la siguiente sección, es la prescencia de variables regresoras cuyo coeficiente final deba de ser removido debido a que se cumple la **hipótesis nula**.\n",
    "\n"
   ]
  },
  {
   "cell_type": "markdown",
   "metadata": {},
   "source": [
    "## Comprobar modelo\n",
    "\n",
    "### Extraer coeficientes resultantes tomando en cuenta la hipotesis nula\n",
    "\n",
    "Una vez adquiridos los resultados del modelo, será necesario extraer los coeficientes que resulten pertinentes.\n",
    "\n",
    "Para ello en el siguiente algoritmo simplemente se recorren todos los valores y en caso de que el p-valor sea mayor a 0.05, se omite dicho coeficiente en la ecuación final.\n",
    "\n",
    "Esto se debe a que en dicho caso, se estaría aprobando la hipotésis nula, que establece que el coeficiente en cuestión es igual a 0."
   ]
  },
  {
   "cell_type": "code",
   "execution_count": 24,
   "metadata": {},
   "outputs": [],
   "source": [
    "def extractCoeficientes(model):\n",
    "  cols = model.params.index\n",
    "  coefs = model.params.values\n",
    "  pvalues = model.pvalues.values\n",
    "\n",
    "  new_coefs = []\n",
    "  y_approx_formula = \"y =\"\n",
    "\n",
    "  coef_count = 1\n",
    "  for (col, coef, pvalue) in zip(cols, coefs, pvalues):\n",
    "      \n",
    "      #Skip p-values greater than 0.5\n",
    "      if pvalue > 0.05: \n",
    "        continue\n",
    "      new_coefs.append((col, coef))\n",
    "      y_approx_formula += \"+\" if coef > 0 else \"\"\n",
    "      y_approx_formula += f\"{round(coef, 4)}x_{coef_count}\"\n",
    "      coef_count += 1\n",
    "\n",
    "  display(Math(y_approx_formula))\n",
    "\n",
    "  return new_coefs\n"
   ]
  },
  {
   "cell_type": "markdown",
   "metadata": {},
   "source": [
    "### Ecuacion resultante"
   ]
  },
  {
   "cell_type": "code",
   "execution_count": 25,
   "metadata": {},
   "outputs": [
    {
     "data": {
      "text/latex": [
       "$\\displaystyle y =-0.1455x_1+0.098x_2-0.3717x_3+0.1902x_4-0.3225x_5$"
      ],
      "text/plain": [
       "<IPython.core.display.Math object>"
      ]
     },
     "metadata": {},
     "output_type": "display_data"
    }
   ],
   "source": [
    "new_coefs = extractCoeficientes(modelo)"
   ]
  },
  {
   "cell_type": "markdown",
   "metadata": {},
   "source": [
    "Antes de hacer comprobaciones más a fondo del modelo, será necesario optimizarlo de manera simple.\n",
    "\n",
    "Tomando en cuenta que hubo variables (columnas de nuestro dataframe) que han sido eliminadas por la hipótesis nula, a continuación se harán nuevas iteraciones del modelo omitiendo dichas variables en la fórmula.\n",
    "\n",
    "### Segunda iteracion del modelo"
   ]
  },
  {
   "cell_type": "code",
   "execution_count": 26,
   "metadata": {},
   "outputs": [
    {
     "name": "stdout",
     "output_type": "stream",
     "text": [
      "Old:  salary_in_usd~salary+remote_ratio+employment_type_CT+employment_type_FL+employment_type_FT+experience_level_EN+experience_level_EX+experience_level_MI\n",
      "New:  salary_in_usd~salary+employment_type_CT+experience_level_EN+experience_level_EX+experience_level_MI\n"
     ]
    }
   ],
   "source": [
    "cols = new_coefs = [coef[0] for coef in new_coefs]\n",
    "\n",
    "print(\"Old: \", formula_string)\n",
    "\n",
    "formula_string = y_columns + \"~\"\n",
    "for col in cols:\n",
    "    if (col in columns_to_skip) or (col == y_columns) :\n",
    "        continue\n",
    "    if col != cols[0]:\n",
    "        formula_string += \"+\"\n",
    "    formula_string += col\n",
    "  \n",
    "print(\"New: \", formula_string)\n"
   ]
  },
  {
   "cell_type": "code",
   "execution_count": 27,
   "metadata": {},
   "outputs": [
    {
     "name": "stdout",
     "output_type": "stream",
     "text": [
      "                            OLS Regression Results                            \n",
      "==============================================================================\n",
      "Dep. Variable:          salary_in_usd   R-squared:                       0.256\n",
      "Model:                            OLS   Adj. R-squared:                  0.249\n",
      "Method:                 Least Squares   F-statistic:                     33.04\n",
      "Date:                Thu, 17 Aug 2023   Prob (F-statistic):           5.65e-29\n",
      "Time:                        21:35:35   Log-Likelihood:                -629.63\n",
      "No. Observations:                 485   AIC:                             1271.\n",
      "Df Residuals:                     479   BIC:                             1296.\n",
      "Df Model:                           5                                         \n",
      "Covariance Type:            nonrobust                                         \n",
      "=======================================================================================\n",
      "                          coef    std err          t      P>|t|      [0.025      0.975]\n",
      "---------------------------------------------------------------------------------------\n",
      "Intercept               0.0179      0.041      0.443      0.658      -0.062       0.098\n",
      "salary                 -0.1474      0.065     -2.282      0.023      -0.274      -0.020\n",
      "employment_type_CT      0.0583      0.041      1.428      0.154      -0.022       0.139\n",
      "experience_level_EN    -0.3904      0.043     -9.147      0.000      -0.474      -0.307\n",
      "experience_level_EX     0.1920      0.041      4.734      0.000       0.112       0.272\n",
      "experience_level_MI    -0.3292      0.044     -7.549      0.000      -0.415      -0.244\n",
      "==============================================================================\n",
      "Omnibus:                      239.133   Durbin-Watson:                   1.991\n",
      "Prob(Omnibus):                  0.000   Jarque-Bera (JB):             1932.279\n",
      "Skew:                           1.980   Prob(JB):                         0.00\n",
      "Kurtosis:                      11.941   Cond. No.                         1.87\n",
      "==============================================================================\n",
      "\n",
      "Notes:\n",
      "[1] Standard Errors assume that the covariance matrix of the errors is correctly specified.\n"
     ]
    }
   ],
   "source": [
    "modelo = smf.ols(formula=formula_string, data=train_df)\n",
    "modelo = modelo.fit()\n",
    "print(modelo.summary())"
   ]
  },
  {
   "cell_type": "markdown",
   "metadata": {},
   "source": [
    "Como se presenta en el resultado, $R^2$ es ligeramente aún más baja. No obstante, hay una columna más, cuyo p-valor aprueba la hipótesis nula. Por lo tanto se hará una tercera iteración para ver si mejora."
   ]
  },
  {
   "cell_type": "code",
   "execution_count": 28,
   "metadata": {},
   "outputs": [
    {
     "data": {
      "text/latex": [
       "$\\displaystyle y =-0.1474x_1-0.3904x_2+0.192x_3-0.3292x_4$"
      ],
      "text/plain": [
       "<IPython.core.display.Math object>"
      ]
     },
     "metadata": {},
     "output_type": "display_data"
    },
    {
     "name": "stdout",
     "output_type": "stream",
     "text": [
      "Old:  salary_in_usd~salary+employment_type_CT+experience_level_EN+experience_level_EX+experience_level_MI\n",
      "New:  salary_in_usd~salary+experience_level_EN+experience_level_EX+experience_level_MI\n"
     ]
    }
   ],
   "source": [
    "new_coefs = extractCoeficientes(modelo)\n",
    "\n",
    "cols = new_coefs = [coef[0] for coef in new_coefs]\n",
    "\n",
    "print(\"Old: \", formula_string)\n",
    "\n",
    "formula_string = y_columns + \"~\"\n",
    "for col in cols:\n",
    "    if (col in columns_to_skip) or (col == y_columns) :\n",
    "        continue\n",
    "    if col != cols[0]:\n",
    "        formula_string += \"+\"\n",
    "    formula_string += col\n",
    "  \n",
    "print(\"New: \", formula_string)"
   ]
  },
  {
   "cell_type": "markdown",
   "metadata": {},
   "source": [
    "### Tercera iteracion del modelo"
   ]
  },
  {
   "cell_type": "code",
   "execution_count": 29,
   "metadata": {},
   "outputs": [
    {
     "name": "stdout",
     "output_type": "stream",
     "text": [
      "                            OLS Regression Results                            \n",
      "==============================================================================\n",
      "Dep. Variable:          salary_in_usd   R-squared:                       0.253\n",
      "Model:                            OLS   Adj. R-squared:                  0.247\n",
      "Method:                 Least Squares   F-statistic:                     40.70\n",
      "Date:                Thu, 17 Aug 2023   Prob (F-statistic):           2.24e-29\n",
      "Time:                        21:35:35   Log-Likelihood:                -630.66\n",
      "No. Observations:                 485   AIC:                             1271.\n",
      "Df Residuals:                     480   BIC:                             1292.\n",
      "Df Model:                           4                                         \n",
      "Covariance Type:            nonrobust                                         \n",
      "=======================================================================================\n",
      "                          coef    std err          t      P>|t|      [0.025      0.975]\n",
      "---------------------------------------------------------------------------------------\n",
      "Intercept               0.0178      0.041      0.438      0.662      -0.062       0.098\n",
      "salary                 -0.1487      0.065     -2.299      0.022      -0.276      -0.022\n",
      "experience_level_EN    -0.3851      0.043     -9.048      0.000      -0.469      -0.301\n",
      "experience_level_EX     0.1974      0.040      4.883      0.000       0.118       0.277\n",
      "experience_level_MI    -0.3305      0.044     -7.573      0.000      -0.416      -0.245\n",
      "==============================================================================\n",
      "Omnibus:                      239.858   Durbin-Watson:                   1.990\n",
      "Prob(Omnibus):                  0.000   Jarque-Bera (JB):             1925.137\n",
      "Skew:                           1.990   Prob(JB):                         0.00\n",
      "Kurtosis:                      11.912   Cond. No.                         1.84\n",
      "==============================================================================\n",
      "\n",
      "Notes:\n",
      "[1] Standard Errors assume that the covariance matrix of the errors is correctly specified.\n"
     ]
    }
   ],
   "source": [
    "modelo = smf.ols(formula=formula_string, data=train_df)\n",
    "modelo = modelo.fit()\n",
    "print(modelo.summary())"
   ]
  },
  {
   "cell_type": "markdown",
   "metadata": {},
   "source": [
    "Para esta tercera iteración, vemos que $R^2$ es aún menor.\n",
    "\n",
    "Al no haber coeficientes cuyo p-valor comprueba la hipótesis nula (sin tomar en cuenta el intercepto, $\\beta_0$), tomaremos la iteración con mejores resultados. La cual fue la primera."
   ]
  },
  {
   "cell_type": "markdown",
   "metadata": {},
   "source": [
    "### Comprobación de mejor iteracion"
   ]
  },
  {
   "cell_type": "code",
   "execution_count": 30,
   "metadata": {},
   "outputs": [
    {
     "name": "stdout",
     "output_type": "stream",
     "text": [
      "                            OLS Regression Results                            \n",
      "==============================================================================\n",
      "Dep. Variable:          salary_in_usd   R-squared:                       0.264\n",
      "Model:                            OLS   Adj. R-squared:                  0.252\n",
      "Method:                 Least Squares   F-statistic:                     21.37\n",
      "Date:                Thu, 17 Aug 2023   Prob (F-statistic):           8.41e-28\n",
      "Time:                        21:35:35   Log-Likelihood:                -627.06\n",
      "No. Observations:                 485   AIC:                             1272.\n",
      "Df Residuals:                     476   BIC:                             1310.\n",
      "Df Model:                           8                                         \n",
      "Covariance Type:            nonrobust                                         \n",
      "=======================================================================================\n",
      "                          coef    std err          t      P>|t|      [0.025      0.975]\n",
      "---------------------------------------------------------------------------------------\n",
      "Intercept               0.0167      0.040      0.413      0.680      -0.063       0.096\n",
      "salary                 -0.1455      0.065     -2.251      0.025      -0.272      -0.018\n",
      "remote_ratio            0.0592      0.040      1.463      0.144      -0.020       0.139\n",
      "employment_type_CT      0.0980      0.050      1.974      0.049       0.000       0.196\n",
      "employment_type_FL     -0.0042      0.058     -0.073      0.941      -0.117       0.109\n",
      "employment_type_FT      0.0879      0.057      1.531      0.126      -0.025       0.201\n",
      "experience_level_EN    -0.3717      0.044     -8.423      0.000      -0.458      -0.285\n",
      "experience_level_EX     0.1902      0.040      4.698      0.000       0.111       0.270\n",
      "experience_level_MI    -0.3225      0.044     -7.387      0.000      -0.408      -0.237\n",
      "==============================================================================\n",
      "Omnibus:                      242.000   Durbin-Watson:                   1.979\n",
      "Prob(Omnibus):                  0.000   Jarque-Bera (JB):             2005.484\n",
      "Skew:                           2.000   Prob(JB):                         0.00\n",
      "Kurtosis:                      12.123   Cond. No.                         2.46\n",
      "==============================================================================\n",
      "\n",
      "Notes:\n",
      "[1] Standard Errors assume that the covariance matrix of the errors is correctly specified.\n"
     ]
    }
   ],
   "source": [
    "print(first_iteration_model.summary())"
   ]
  },
  {
   "cell_type": "code",
   "execution_count": 31,
   "metadata": {},
   "outputs": [
    {
     "data": {
      "text/latex": [
       "$\\displaystyle y =-0.1455x_1+0.098x_2-0.3717x_3+0.1902x_4-0.3225x_5$"
      ],
      "text/plain": [
       "<IPython.core.display.Math object>"
      ]
     },
     "metadata": {},
     "output_type": "display_data"
    },
    {
     "name": "stdout",
     "output_type": "stream",
     "text": [
      "[('salary', -0.14548299749333402), ('employment_type_CT', 0.09801437216871596), ('experience_level_EN', -0.3717055714757485), ('experience_level_EX', 0.19024835708034454), ('experience_level_MI', -0.3224556967707892)]\n"
     ]
    }
   ],
   "source": [
    "new_coefs = extractCoeficientes(first_iteration_model)\n",
    "print(new_coefs)"
   ]
  },
  {
   "cell_type": "markdown",
   "metadata": {},
   "source": [
    "### Aproximar valores de $y$ usando modelo"
   ]
  },
  {
   "cell_type": "code",
   "execution_count": 32,
   "metadata": {},
   "outputs": [],
   "source": [
    "b1x1 = -0.14548299749333402 * test_df[\"salary\"]\n",
    "b2x2 = 0.09801437216871596 * test_df[\"employment_type_CT\"]\n",
    "b3x3 = -0.3717055714757485 * test_df[\"experience_level_EN\"]\n",
    "b4x4 = 0.19024835708034454 * test_df[\"experience_level_EX\"]\n",
    "b5x5 = -0.3224556967707892 * test_df[\"experience_level_MI\"]\n",
    "\n",
    "y_aprox = b1x1 + b2x2 + b3x3 + b4x4 + b5x5"
   ]
  },
  {
   "cell_type": "code",
   "execution_count": 33,
   "metadata": {},
   "outputs": [
    {
     "data": {
      "text/plain": [
       "Text(0, 0.5, 'Predicción del modelo')"
      ]
     },
     "execution_count": 33,
     "metadata": {},
     "output_type": "execute_result"
    },
    {
     "data": {
      "image/png": "[encoded data removed]",
      "text/plain": [
       "<Figure size 640x480 with 1 Axes>"
      ]
     },
     "metadata": {},
     "output_type": "display_data"
    }
   ],
   "source": [
    "plt.scatter(test_df[\"salary_in_usd\"], y_aprox, color=\"gray\")\n",
    "plt.plot(test_df[\"salary_in_usd\"], test_df[\"salary_in_usd\"], color=\"red\")\n",
    "plt.xlabel(\"Datos reales\")\n",
    "plt.ylabel(\"Predicción del modelo\")"
   ]
  },
  {
   "cell_type": "markdown",
   "metadata": {},
   "source": [
    "Esta es probablemente la gráfica más importante para interpretar nuestros resultados de manera visual.\n",
    "\n",
    "Si bien vemos que el modelo tiene carencias, en el peculiar ordenamiento de los datos se ve una ligera tendencia en como los cúmulos en formas de líneas se van hacia las $x$ y $y$ positivas y  según la pendiente de la recta."
   ]
  },
  {
   "cell_type": "markdown",
   "metadata": {},
   "source": [
    "## Analisis de errores\n",
    "\n",
    "Luego de una interpretación meramente visual, es pertinente usar métricas para juzgar los errores.\n",
    "\n",
    "Para ello primero será necesario calcular los errores através de la diferencia de los valores reales de prueba y los valores predichos con el modelo."
   ]
  },
  {
   "cell_type": "code",
   "execution_count": 34,
   "metadata": {},
   "outputs": [
    {
     "data": {
      "text/html": [
       "<div>\n",
       "<style scoped>\n",
       "    .dataframe tbody tr th:only-of-type {\n",
       "        vertical-align: middle;\n",
       "    }\n",
       "\n",
       "    .dataframe tbody tr th {\n",
       "        vertical-align: top;\n",
       "    }\n",
       "\n",
       "    .dataframe thead th {\n",
       "        text-align: right;\n",
       "    }\n",
       "</style>\n",
       "<table border=\"1\" class=\"dataframe\">\n",
       "  <thead>\n",
       "    <tr style=\"text-align: right;\">\n",
       "      <th></th>\n",
       "      <th>real</th>\n",
       "      <th>prediction</th>\n",
       "      <th>errors</th>\n",
       "    </tr>\n",
       "  </thead>\n",
       "  <tbody>\n",
       "    <tr>\n",
       "      <th>563</th>\n",
       "      <td>0.394254</td>\n",
       "      <td>0.358293</td>\n",
       "      <td>0.035961</td>\n",
       "    </tr>\n",
       "    <tr>\n",
       "      <th>289</th>\n",
       "      <td>0.320205</td>\n",
       "      <td>0.358788</td>\n",
       "      <td>-0.038583</td>\n",
       "    </tr>\n",
       "    <tr>\n",
       "      <th>76</th>\n",
       "      <td>-0.173457</td>\n",
       "      <td>-0.313561</td>\n",
       "      <td>0.140104</td>\n",
       "    </tr>\n",
       "    <tr>\n",
       "      <th>78</th>\n",
       "      <td>2.224328</td>\n",
       "      <td>0.754826</td>\n",
       "      <td>1.469502</td>\n",
       "    </tr>\n",
       "    <tr>\n",
       "      <th>182</th>\n",
       "      <td>-1.217128</td>\n",
       "      <td>-0.306207</td>\n",
       "      <td>-0.910921</td>\n",
       "    </tr>\n",
       "  </tbody>\n",
       "</table>\n",
       "</div>"
      ],
      "text/plain": [
       "         real  prediction    errors\n",
       "563  0.394254    0.358293  0.035961\n",
       "289  0.320205    0.358788 -0.038583\n",
       "76  -0.173457   -0.313561  0.140104\n",
       "78   2.224328    0.754826  1.469502\n",
       "182 -1.217128   -0.306207 -0.910921"
      ]
     },
     "execution_count": 34,
     "metadata": {},
     "output_type": "execute_result"
    }
   ],
   "source": [
    "comparison_data = {\n",
    "    \"real\": test_df[\"salary_in_usd\"],\n",
    "    \"prediction\": y_aprox,\n",
    "    \"errors\": test_df[\"salary_in_usd\"] - y_aprox,\n",
    "}\n",
    "\n",
    "comparison_df = pd.DataFrame(comparison_data)\n",
    "\n",
    "comparison_df.head()"
   ]
  },
  {
   "cell_type": "markdown",
   "metadata": {},
   "source": [
    "### QQ-plot y prueba Kolmogorov-Smirnov (K-S test)\n",
    "\n",
    "Un primer análisis es comparar los residuos a una distribución normal, puesto que de haber hecho un modelo aceptable, los errores deben de ser estocásticos, de no ser así es un indicio de que las inferencias que se hacen en el modelo están sesgadas o son incorrectas.\n",
    "\n",
    "Ante tal distribución de residuos, lo mejor será estandarizarlos:\n",
    "\n",
    "$$ \\frac{x_i - \\overline{x}}{\\sigma_x}$$\n",
    "\n",
    "Es decir: $\\frac{Residuo - Promedio\\ de\\ residuo}{Desviación\\ estándar\\ de\\ residuo} $\n",
    "\n",
    "El K-S test nos dará índices relevantes al comparar entre nuestros residuos y una distribución normal.\n",
    "\n",
    "#### Estandarizacion de errores y K-S test\n"
   ]
  },
  {
   "cell_type": "code",
   "execution_count": 35,
   "metadata": {},
   "outputs": [
    {
     "data": {
      "text/plain": [
       "KstestResult(statistic=0.07594032395989558, pvalue=0.4600805142800537, statistic_location=0.1388286345947233, statistic_sign=1)"
      ]
     },
     "execution_count": 35,
     "metadata": {},
     "output_type": "execute_result"
    }
   ],
   "source": [
    "meanRemainders = comparison_df[\"errors\"].mean()\n",
    "stdReminders = comparison_df[\"errors\"].std()\n",
    "errors_st = (comparison_df[\"errors\"] - meanRemainders) / stdReminders\n",
    "\n",
    "stats.kstest(errors_st, \"norm\")"
   ]
  },
  {
   "cell_type": "markdown",
   "metadata": {},
   "source": [
    "En los resultados vemos como la discrepancia (statistic) es bastante baja.\n",
    "\n",
    "A mayor discrepancia, menor se ajustarían nuestros errores a la distribución deseada (normal). Por lo que el resultado sea bajo es un buen indicio.\n",
    "\n",
    "\n",
    "#### QQ-plot\n",
    "\n",
    "Para complementar a la prueba anterior haremos un QQ-plot que nos indique nuevamente qué tanto se asemejan los errores a una distribución normal.\n",
    "\n",
    "Este proceso calculará los cuantiles esperados en una distribución normal, y luego graficará nuestros errores estandarizados según su pareja de cuantiles.\n",
    "\n",
    "De esta manera entre más se asemejen a una línea react nuestros errores, mejor.\n",
    "\n"
   ]
  },
  {
   "cell_type": "code",
   "execution_count": 36,
   "metadata": {},
   "outputs": [
    {
     "data": {
      "image/png": "[encoded data removed]",
      "text/plain": [
       "<Figure size 640x480 with 1 Axes>"
      ]
     },
     "metadata": {},
     "output_type": "display_data"
    }
   ],
   "source": [
    "QQ = sm.qqplot(errors_st, line=\"45\")\n"
   ]
  },
  {
   "cell_type": "markdown",
   "metadata": {},
   "source": [
    "Y efectivamente, se aprecia como la mayor parte de los datos se acerca a línea recta teórica marcada en rojo que se posicionó de apoyo.\n",
    "\n",
    "En este punto resulta prudente graficar un histograma de los residuos para ver su distribución.\n",
    "\n",
    "### Histograma de residuos\n",
    "\n"
   ]
  },
  {
   "cell_type": "code",
   "execution_count": 37,
   "metadata": {},
   "outputs": [
    {
     "data": {
      "text/plain": [
       "Text(0, 0.5, 'Frecuencia')"
      ]
     },
     "execution_count": 37,
     "metadata": {},
     "output_type": "execute_result"
    },
    {
     "data": {
      "image/png": "[encoded data removed]",
      "text/plain": [
       "<Figure size 640x480 with 1 Axes>"
      ]
     },
     "metadata": {},
     "output_type": "display_data"
    }
   ],
   "source": [
    "plt.hist(comparison_data[\"errors\"])\n",
    "plt.title(\"Histograma de residuos\") #Residuos y herrores es lo mismo\n",
    "plt.xlabel(\"Residuos\")\n",
    "plt.ylabel(\"Frecuencia\")"
   ]
  },
  {
   "cell_type": "markdown",
   "metadata": {},
   "source": [
    "Como resultado se observa una distribución con una estructura difusamente parecida a la de una normal, pero es innegable que los errores no son completamente estocásticos, puesto que se ve una gran densidad en el lado izquierdo de la distribución.\n",
    "\n",
    "\n",
    "## Resultados finales\n",
    "\n",
    "Nos es posible determinar con una variabilidad ($R^2$) de $0.264$ el **salario en dólares americanos** de un empleado dados sus:\n",
    "* $x_1$: salario\n",
    "* $x_2$: si su tipo de empleo es _CT_\n",
    "* $x_3$: si es de nivel _EN_\n",
    "* $x_4$: si es de nivel _EX_\n",
    "* $x_5$: si es de nivel _MI_\n",
    "\n",
    "Recordar que de $x_2$ a $x_5$ se tratan de variables dicotómicas.\n",
    "\n",
    "#### Ecuacion final"
   ]
  },
  {
   "cell_type": "code",
   "execution_count": 38,
   "metadata": {},
   "outputs": [
    {
     "data": {
      "text/latex": [
       "$\\displaystyle y =-0.1455x_1+0.098x_2-0.3717x_3+0.1902x_4-0.3225x_5$"
      ],
      "text/plain": [
       "<IPython.core.display.Math object>"
      ]
     },
     "metadata": {},
     "output_type": "display_data"
    }
   ],
   "source": [
    "equation = extractCoeficientes(first_iteration_model)"
   ]
  },
  {
   "cell_type": "markdown",
   "metadata": {},
   "source": [
    "\n",
    "## Conclusion\n",
    "\n",
    "En repetidas ocasiones durante el análisis de resultados y residuos, el modelo mostró cierto grado de deficiencia, desde los valores de $R^2$, hasta el histograma de residuos.\n",
    "\n",
    "No obstante, esto no se debe a que el modelo de regresión linear no sea el indicado para el conjunto de datos.\n",
    "\n",
    "En lo personal se lo atribuyo más a los datos que se usaron de entrenamiento, frente a los de prueba. Probar con un conjunto de datos más grande, o intercalar los datos de entrenamiento con algún método de validación cruzada nos dotará de mayor información para mejorar el modelo."
   ]
  }
 ],
 "metadata": {
  "kernelspec": {
   "display_name": "Python 3 (ipykernel)",
   "language": "python",
   "name": "python3"
  },
  "language_info": {
   "codemirror_mode": {
    "name": "ipython",
    "version": 3
   },
   "file_extension": ".py",
   "mimetype": "text/x-python",
   "name": "python",
   "nbconvert_exporter": "python",
   "pygments_lexer": "ipython3",
   "version": "3.11.3"
  }
 },
 "nbformat": 4,
 "nbformat_minor": 4
}
